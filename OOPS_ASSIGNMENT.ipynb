{
  "nbformat": 4,
  "nbformat_minor": 0,
  "metadata": {
    "colab": {
      "provenance": []
    },
    "kernelspec": {
      "name": "python3",
      "display_name": "Python 3"
    },
    "language_info": {
      "name": "python"
    }
  },
  "cells": [
    {
      "cell_type": "markdown",
      "source": [
        "1. What is Object-Oriented Programming (OOP)?\n",
        ">> oops helps you to arrange the required functions in respective classes.\n",
        "\n",
        "2. What is a class in OOP?\n",
        ">> a class is a blueprint or template for creating objects. It defines the structure and behavior of objects by specifying attributes (data) and methods (functions) that the objects will have.\n",
        "\n",
        "3. What is an object in OOP?\n",
        ">> An object in OOP is an instance of a class that has its own unique data (attributes) and can perform actions (methods) defined by the class. It represents a real-world entity and allows interaction with the program.\n",
        "\n",
        "4. what is the difference between abstraction and encapsulation?\n",
        ">> Abstraction hides complex implementation details and shows only the essential features of an object. It is achieved using abstract classes and interfaces.\n",
        "Encapsulation hides internal data by restricting direct access and allowing controlled modification through getters and setters. It is implemented using access modifiers (private, public, protected).\n",
        "\n",
        "5. What are dunder methods in Python?\n",
        ">> dunder/magic/specials method are the method defined by built-in classes in pytyhon. calsses define these type of methods fro creating custom objects.\n",
        "6. Explain the concept of inheritance in OOP.\n",
        ">> refers to process of child class receiving the properties of parent class .\n",
        "\n",
        "7. What is polymorphism in OOP?\n",
        ">> polymorphism : poly means many and morphism means forms/states.\n",
        "refers to an object taking taking several forms depending on the methods/data.\n",
        "\n",
        "8. How is encapsulation achieved in Python?\n",
        ">> Encapsulation in Python is achieved using access modifiers to restrict direct access to data and control modifications.\n",
        "Private Variables (__variable) - Prevent direct access.\n",
        "Protected Variables (_variable) - Indicate restricted access (convention, not enforced).\n",
        "Getter and Setter Methods - Control access to private attributes.\n",
        "\n",
        "9. What is a constructor in Python?\n",
        ">> A constructor in Python is a special method (__init__) that is automatically called when an object of a class is created. It is used to initialize the object's attributes.\n",
        "\n",
        "10. What are class and static methods in Python?\n",
        ">> static method : doesnot modify class or instance state .\n",
        "it behaves like a plain fuction that belongs to class.\n",
        "defined using @staticmethod decorator.\n",
        "\n",
        "11. What is method overloading in Python?\n",
        ">> Method overloading allows multiple methods in a class to have the same name but different parameters. However, Python does not support true method overloading.\n",
        "\n",
        "12. What is method overriding in OOP?\n",
        ">> Method overriding occurs when a subclass provides a new implementation of a method that is already defined in its parent class. The method in the child class must have the same name, parameters, and return type as the parent class method.\n",
        "\n",
        "13. What is a property decorator in Python?\n",
        ">> property decorators :- you are allowed to use class method as attribute.\n",
        "\n",
        "14. Why is polymorphism important in OOP?\n",
        ">> Polymorphism is important in Object-Oriented Programming (OOP) because it allows different classes to be treated as instances of the same superclass. It enhances code reusability, flexibility, and maintainability by enabling a single interface to be used for different types.\n",
        "\n",
        "15. What is an abstract class in Python?\n",
        ">> An abstract class in Python is a class that cannot be instantiated and serves as a blueprint for other classes. It contains abstract methods (methods that must be implemented by child classes).\n",
        "Abstract classes help in achieving abstraction by enforcing a structure for subclasses.\n",
        "\n",
        "16. What are the advantages of OOP?\n",
        ">> Code Reusability - OOP promotes the use of classes and objects, allowing code to be reused through inheritance.\n",
        "Encapsulation - Protects data by restricting direct access and modifying it only through defined methods.\n",
        "Abstraction - Hides complex implementation details and exposes only the necessary functionalities.\n",
        "Polymorphism - Allows multiple classes to use the same interface, making code\n",
        "\n",
        "17. What is the difference between a class variable and an instance variable?\n",
        ">> Class variables are shared among all instances of a class, while instance variables are unique to each object. Class variables are defined outside methods, whereas instance variables are defined inside the constructor (__init__). Modifying a class variable affects all objects, but modifying an instance variable affects only that specific object.\n",
        "\n",
        "18. What is multiple inheritance in Python?\n",
        ">> Multiple inheritance allows a class to inherit from more than one parent class, combining attributes and methods from multiple sources.\n",
        "\n",
        "19. Explain the purpose of \"__str__\" and \"__repr__\" methods in Python.\n",
        ">> __str__ : it returns string representation of method\n",
        "__repr__ : it returns unambigous string representation of the object  as it is that can be used to recreate the object.\n",
        "\n",
        "20. What is the significance of the super() function in Python?\n",
        ">> The super() function is used to call methods from a parent class inside a child class. It is mainly used in inheritance to avoid redundant code and ensure proper method resolution, especially in multiple inheritance.\n",
        "\n",
        "21. What is the significance of the __del__ method in Python?\n",
        ">> The __del__ method is a special destructor method in Python that is automatically called when an object is deleted or goes out of scope. It is mainly used for cleanup operations like closing files, releasing memory, or disconnecting from databases.\n",
        "\n",
        "22.  What is the difference between @staticmethod and @classmethod in Python?\n",
        ">>  @staticmethod and @classmethod are both used to define methods inside a class that are not instance-specific. However, they serve different purposes. A static method (defined using @staticmethod) does not require access to instance (self) or class (cls) variables and behaves like a regular function inside a class, making it useful for utility functions. On the other hand, a class method (defined using @classmethod) takes cls as its first parameter and can access or modify class-level attributes, making it useful when a method needs to interact with class variables rather than instance variables. While @staticmethod is primarily for grouping related functions inside a class, @classmethod is used for operations that affect the entire class.\n",
        "\n",
        "23. How does polymorphism work in Python with inheritance?\n",
        ">> Polymorphism in Python allows a single interface (method name) to be used for different types of objects, making the code more flexible and reusable. When combined with inheritance, polymorphism enables child classes to override parent class methods while maintaining a common method structure.\n",
        "\n",
        "24. What is method chaining in Python OOP?\n",
        ">> Method chaining is a technique where multiple methods are called on the same object in a single statement, improving code readability and conciseness. This is achieved by having each method return self, allowing the next method to be called directly on the returned object.\n",
        "\n",
        "25.  What is the purpose of the __call__ method in Python?\n",
        ">> The __call__ method allows an instance of a class to be called like a function. When an object of a class with __call__ is invoked using parentheses (), Python automatically executes the __call__ method.\n",
        "\n",
        "\n"
      ],
      "metadata": {
        "id": "VmmMBruDBtuW"
      }
    },
    {
      "cell_type": "code",
      "source": [
        "#1. Create a parent class Animal with a method speak() that prints a generic message. Create a child class Dog that overrides the speak() method to print \"Bark!\".\n",
        "class Animal:\n",
        "  def speak(self):\n",
        "    print(\"The animal speaks.\")\n",
        "\n",
        "class Dog(Animal):\n",
        "  def speak(self):\n",
        "    print(\"The dog barks.\")\n",
        "obj=Dog()\n",
        "obj.speak()"
      ],
      "metadata": {
        "colab": {
          "base_uri": "https://localhost:8080/"
        },
        "id": "IhukMXtcOyZ2",
        "outputId": "019c3bd7-bac7-483d-aa86-ffb49edd6a99"
      },
      "execution_count": 2,
      "outputs": [
        {
          "output_type": "stream",
          "name": "stdout",
          "text": [
            "The dog barks.\n"
          ]
        }
      ]
    },
    {
      "cell_type": "code",
      "source": [
        "#2. Write a program to create an abstract class Shape with a method area(). Derive classes Circle and Rectangle from it and implement the area() method in both.\n",
        "\n",
        "from abc import ABC, abstractmethod\n",
        "class Shape(ABC):\n",
        "    @abstractmethod\n",
        "    def area(self):\n",
        "        pass\n",
        "class Circle(Shape):\n",
        "    def __init__(self, radius):\n",
        "        self.radius = radius\n",
        "\n",
        "    def area(self):\n",
        "       return 3.14 * self.radius * self.radius\n",
        "class Rectangle(Shape):\n",
        "    def __init__(self, length, width):\n",
        "        self.length = length\n",
        "        self.width = width\n",
        "\n",
        "    def area(self):\n",
        "        return self.length * self.width\n",
        "\n",
        "c = Circle(5)\n",
        "r = Rectangle(4, 6)\n",
        "print(\"Circle Area:\", c.area())\n",
        "print(\"Rectangle Area:\", r.area())\n"
      ],
      "metadata": {
        "colab": {
          "base_uri": "https://localhost:8080/"
        },
        "id": "__At4LbSPhrm",
        "outputId": "26503250-f056-4ff1-eb2c-6d9eec90ee2a"
      },
      "execution_count": 6,
      "outputs": [
        {
          "output_type": "stream",
          "name": "stdout",
          "text": [
            "Circle Area: 78.5\n",
            "Rectangle Area: 24\n"
          ]
        }
      ]
    },
    {
      "cell_type": "code",
      "source": [
        "#3. Implement a multi-level inheritance scenario where a class Vehicle has an attribute type. Derive a class Car and further derive a class ElectricCar that adds a battery attribute.\n",
        "\n",
        "class Vehicle:\n",
        "    def __init__(self, type):\n",
        "        self.type = type\n",
        "class Car(Vehicle):\n",
        "    def __init__(self, brand, vehicle_type=\"Car\"):\n",
        "        super().__init__(vehicle_type)\n",
        "        self.brand = brand\n",
        "class ElectricCar(Car):\n",
        "    def __init__(self, brand, battery_capacity):\n",
        "        super().__init__(brand)\n",
        "        self.battery = battery_capacity\n",
        "\n",
        "    def display_info(self):\n",
        "        print(f\"Type: {self.type}, Brand: {self.brand}, Battery: {self.battery} kWh\")\n",
        "\n",
        "tesla = ElectricCar(\"Tesla\", 75)\n",
        "tesla.display_info()\n"
      ],
      "metadata": {
        "colab": {
          "base_uri": "https://localhost:8080/"
        },
        "id": "b0UQi9pzQvpn",
        "outputId": "1e2d5c87-1cc9-412e-93f1-743f7977f7d0"
      },
      "execution_count": 7,
      "outputs": [
        {
          "output_type": "stream",
          "name": "stdout",
          "text": [
            "Type: Car, Brand: Tesla, Battery: 75 kWh\n"
          ]
        }
      ]
    },
    {
      "cell_type": "code",
      "source": [
        "#4. Demonstrate polymorphism by creating a base class Bird with a method fly(). Create two derived classes Sparrow and Penguin that override the fly() method.\n",
        "class Bird:\n",
        "    def fly(self):\n",
        "        print(\"Birds can fly.\")\n",
        "\n",
        "class Sparrow(Bird):\n",
        "    def fly(self):\n",
        "        print(\"Sparrows can fly at high speeds.\")\n",
        "\n",
        "class Penguin(Bird):\n",
        "    def fly(self):\n",
        "        print(\"Penguins cannot fly.\")\n",
        "\n",
        "bird = Bird()\n",
        "sparrow = Sparrow()\n",
        "penguin = Penguin()\n",
        "\n",
        "bird.fly()\n",
        "sparrow.fly()\n",
        "penguin.fly()"
      ],
      "metadata": {
        "colab": {
          "base_uri": "https://localhost:8080/"
        },
        "id": "Tn-kOTfSRbhG",
        "outputId": "5f10ddea-651d-4bea-f1e4-c8ee1f10e86e"
      },
      "execution_count": 8,
      "outputs": [
        {
          "output_type": "stream",
          "name": "stdout",
          "text": [
            "Birds can fly.\n",
            "Sparrows can fly at high speeds.\n",
            "Penguins cannot fly.\n"
          ]
        }
      ]
    },
    {
      "cell_type": "code",
      "source": [
        "# 5. Write a program to demonstrate encapsulation by creating a class BankAccount with private attributes balance and methods to deposit, withdraw, and check balance.\n",
        "class BankAccount:\n",
        "    def __init__(self, balance=0):\n",
        "        self.__balance = balance\n",
        "    def deposit(self, amount):\n",
        "        self.__balance += amount\n",
        "    def withdraw(self, amount):\n",
        "        if amount <= self.__balance:\n",
        "            self.__balance -= amount\n",
        "        else:\n",
        "            print(\"Insufficient balance.\")"
      ],
      "metadata": {
        "id": "MZdqEPIcU3n-"
      },
      "execution_count": null,
      "outputs": []
    },
    {
      "cell_type": "code",
      "source": [
        "# 6. Demonstrate runtime polymorphism using a method play() in a base class Instrument. Derive classes Guitar and Piano that implement their own version of play().\n",
        "class Instrument:\n",
        "    def play(self):\n",
        "        print(\"Instrument is playing\")\n",
        "\n",
        "class Guitar(Instrument):\n",
        "    def play(self):\n",
        "        print(\"Guitar is playing\")\n",
        "\n",
        "class Piano(Instrument):\n",
        "    def play(self):\n",
        "        print(\"Piano is playing\")\n",
        "\n",
        "obj1 = Guitar()\n",
        "obj2 = Piano()\n",
        "\n",
        "obj1.play()\n",
        "obj2.play()"
      ],
      "metadata": {
        "colab": {
          "base_uri": "https://localhost:8080/"
        },
        "id": "y6NDk5PKSNpe",
        "outputId": "838bd70d-e731-4e85-c0f8-98e56903699c"
      },
      "execution_count": 11,
      "outputs": [
        {
          "output_type": "stream",
          "name": "stdout",
          "text": [
            "Guitar is playing\n",
            "Piano is playing\n"
          ]
        }
      ]
    },
    {
      "cell_type": "code",
      "source": [
        "# 7. Create a class MathOperations with a class method add_numbers() to add two numbers and a static method subtract_numbers() to subtract two numbers.\n",
        "class MathOperations:\n",
        "    @classmethod\n",
        "    def add_numbers(cls, a, b):\n",
        "        return a + b\n",
        "\n",
        "    @staticmethod\n",
        "    def subtract_numbers(a, b):\n",
        "        return a - b\n",
        "\n",
        "obj1 = MathOperations()\n",
        "print(obj1.add_numbers(2,3))\n",
        "print(obj1.subtract_numbers(2,3))"
      ],
      "metadata": {
        "colab": {
          "base_uri": "https://localhost:8080/"
        },
        "id": "RCsXIQQhSkn1",
        "outputId": "38231e74-c8e2-4c21-a8f7-b2a4e8a1d106"
      },
      "execution_count": 12,
      "outputs": [
        {
          "output_type": "stream",
          "name": "stdout",
          "text": [
            "5\n",
            "-1\n"
          ]
        }
      ]
    },
    {
      "cell_type": "code",
      "source": [
        " # 8. Implement a class Person with a class method to count the total number of persons created.\n",
        " class Person:\n",
        "    count = 0\n",
        "\n",
        "    def __init__(self):\n",
        "        Person.count += 1\n",
        "\n",
        "    @classmethod\n",
        "    def get_count(cls):\n",
        "        return cls.count\n",
        "obj1= Person()\n",
        "obj2 = Person()\n",
        "print(Person.get_count())\n"
      ],
      "metadata": {
        "colab": {
          "base_uri": "https://localhost:8080/"
        },
        "id": "--ALwcOdS3gG",
        "outputId": "9615fdc0-ac7f-4f7c-cd3d-ac35add8707f"
      },
      "execution_count": 28,
      "outputs": [
        {
          "output_type": "stream",
          "name": "stdout",
          "text": [
            "2\n"
          ]
        }
      ]
    },
    {
      "cell_type": "code",
      "source": [
        "# 9. Write a class Fraction with attributes numerator and denominator. Override the str method to display the fraction as \"numerator/denominator\".\n",
        "class Fraction:\n",
        "    def __init__(self, numerator, denominator):\n",
        "        self.numerator = numerator\n",
        "        self.denominator = denominator\n",
        "\n",
        "    def __str__(self):\n",
        "        return f\"{self.numerator}/{self.denominator}\"\n",
        "obj1 = Fraction(2,3)\n",
        "obj1.denominator\n",
        "obj1. __str__()"
      ],
      "metadata": {
        "id": "rmXzqVRhUxY_"
      },
      "execution_count": null,
      "outputs": []
    },
    {
      "cell_type": "code",
      "source": [
        "# 10.Demonstrate operator overloading by creating a class Vector and overriding the add method to add two vectors.\n",
        "class Vector:\n",
        "    def __init__(self, x, y):\n",
        "        self.x = x\n",
        "        self.y = y\n",
        "\n",
        "    def __add__(self, other):\n",
        "        return Vector(self.x + other.x, self.y + other.y)\n",
        "obj1 = Vector(1, 2)\n",
        "obj2 = Vector(3, 4)\n",
        "result = obj1 + obj2\n",
        "print(result.x, result.y)"
      ],
      "metadata": {
        "colab": {
          "base_uri": "https://localhost:8080/"
        },
        "id": "mvOu9y_pTzhH",
        "outputId": "f3f040dd-8397-4286-ac11-377e6f6d647e"
      },
      "execution_count": 20,
      "outputs": [
        {
          "output_type": "stream",
          "name": "stdout",
          "text": [
            "4 6\n"
          ]
        }
      ]
    },
    {
      "cell_type": "code",
      "source": [
        "# 11. Create a class Person with attributes name and age. Add a method greet() that prints \"Hello, my name is {name} and I am {age} years old.\"\n",
        "class Person:\n",
        "    def __init__(self, name, age):\n",
        "        self.name = name\n",
        "        self.age = age\n",
        "    def greet(self):\n",
        "        print(f\"Hello, my name is {self.name} and I am {self.age} years old.\")\n",
        "p = Person(\"Alice\", 25)\n",
        "p.greet()"
      ],
      "metadata": {
        "colab": {
          "base_uri": "https://localhost:8080/"
        },
        "id": "jXoGwPTYUs9O",
        "outputId": "7aee0969-3f42-4bbd-bdba-137a303a2fa1"
      },
      "execution_count": 23,
      "outputs": [
        {
          "output_type": "stream",
          "name": "stdout",
          "text": [
            "Hello, my name is Alice and I am 25 years old.\n"
          ]
        }
      ]
    },
    {
      "cell_type": "code",
      "source": [
        "# 12. Implement a class Student with attributes name and grades. Create a method average_grade() to compute the average of the grades.\n",
        "class Student:\n",
        "    def __init__(self, name, grades):\n",
        "        self.name = name\n",
        "        self.grades = grades\n",
        "\n",
        "    def average_grade(self):\n",
        "        return sum(self.grades) / len(self.grades)\n",
        "\n",
        "obj1 = Student(\"Alice\", [85, 90, 78, 92])\n",
        "print(obj1.average_grade())"
      ],
      "metadata": {
        "colab": {
          "base_uri": "https://localhost:8080/"
        },
        "id": "s5MU8i-YVVO2",
        "outputId": "038b7ef2-509c-44ab-a8d1-fb9d0ae4b73c"
      },
      "execution_count": 25,
      "outputs": [
        {
          "output_type": "stream",
          "name": "stdout",
          "text": [
            "86.25\n"
          ]
        }
      ]
    },
    {
      "cell_type": "code",
      "source": [
        "# 13. Create a class Rectangle with methods set_dimensions() to set the dimensions and area() to calculate the area.\n",
        "class Rectangle:\n",
        "    def __init__(self):\n",
        "        self.length = 0\n",
        "        self.width = 0\n",
        "\n",
        "    def set_dimensions(self, length, width):\n",
        "        self.length = length\n",
        "        self.width = width\n",
        "    def area(self):\n",
        "        return self.length * self.width\n",
        "\n",
        "obj1 = Rectangle()\n",
        "obj1.set_dimensions(5, 3)\n",
        "print(obj1.area())\n"
      ],
      "metadata": {
        "colab": {
          "base_uri": "https://localhost:8080/"
        },
        "id": "dH1zh7diVaKe",
        "outputId": "5e65f55e-3cd7-4407-914d-1cf126f23a83"
      },
      "execution_count": 27,
      "outputs": [
        {
          "output_type": "stream",
          "name": "stdout",
          "text": [
            "15\n"
          ]
        }
      ]
    },
    {
      "cell_type": "code",
      "source": [
        "# 14. Create a class Employee with a method calculate_salary() that computes the salary based on hours worked and hourly rate. Create a derived class Manager that adds a bonus to the salary\n",
        "class Employee:\n",
        "    def __init__(self, name, hours_worked, hourly_rate):\n",
        "        self.name = name\n",
        "        self.hours_worked = hours_worked\n",
        "        self.hourly_rate = hourly_rate\n",
        "    def calculate_salary(self):\n",
        "        return self.hours_worked * self.hourly_rate\n",
        "class Manager(Employee):\n",
        "    def __init__(self, name, hours_worked, hourly_rate, bonus):\n",
        "        super().__init__(name, hours_worked, hourly_rate)\n",
        "        self.bonus = bonus\n",
        "    def calculate_salary(self):\n",
        "        base_salary = super().calculate_salary()\n",
        "        return base_salary + self.bonus\n",
        "obj1 = Manager(\"Alice\", 40, 50, 1000)\n",
        "print(obj1.calculate_salary())\n",
        "\n",
        ""
      ],
      "metadata": {
        "colab": {
          "base_uri": "https://localhost:8080/"
        },
        "id": "8MDIZBF5WIXu",
        "outputId": "1f05edde-68d0-418c-8687-64a6718fb9f5"
      },
      "execution_count": 29,
      "outputs": [
        {
          "output_type": "stream",
          "name": "stdout",
          "text": [
            "3000\n"
          ]
        }
      ]
    },
    {
      "cell_type": "code",
      "source": [
        "# 15. Create a class Product with attributes name, price, and quantity. Implement a method total_price() that calculates the total price of the product.\n",
        "class Product:\n",
        "    def __init__(self, name, price, quantity):\n",
        "        self.name = name\n",
        "        self.price = price\n",
        "        self.quantity = quantity\n",
        "    def total_price(self):\n",
        "        return self.price * self.quantity\n",
        "\n",
        "OBJ1 = Product(\"Apple\", 10, 5)\n",
        "print(OBJ1.total_price())"
      ],
      "metadata": {
        "colab": {
          "base_uri": "https://localhost:8080/"
        },
        "id": "7Yy-bJhCXJe2",
        "outputId": "4d703223-7989-4fdc-c701-bacceb318c54"
      },
      "execution_count": 31,
      "outputs": [
        {
          "output_type": "stream",
          "name": "stdout",
          "text": [
            "50\n"
          ]
        }
      ]
    },
    {
      "cell_type": "code",
      "source": [
        "# 16. Create a class Animal with an abstract method sound(). Create two derived classes Cow and Sheep that implement the sound() method.\n",
        "from abc import ABC, abstractmethod\n",
        "class Animal(ABC):\n",
        "    @abstractmethod\n",
        "    def sound(self):\n",
        "        pass\n",
        "class Cow(Animal):\n",
        "    def sound(self):\n",
        "        print(\"Moo!\")\n",
        "class Sheep(Animal):\n",
        "    def sound(self):\n",
        "        print(\"Baa!\")\n",
        "obj1 = Cow()\n",
        "obj2 = Sheep()\n",
        "obj1.sound()\n",
        "obj2.sound()"
      ],
      "metadata": {
        "colab": {
          "base_uri": "https://localhost:8080/"
        },
        "id": "gRr3DemjXMAG",
        "outputId": "2554b923-b7d2-4a92-b5f6-8fd1260f0040"
      },
      "execution_count": 32,
      "outputs": [
        {
          "output_type": "stream",
          "name": "stdout",
          "text": [
            "Moo!\n",
            "Baa!\n"
          ]
        }
      ]
    },
    {
      "cell_type": "code",
      "source": [
        "# 17. Create a class Book with attributes title, author, and year_published. Add a method get_book_info() that returns a formatted string with the book's details.\n",
        "class Book:\n",
        "    def __init__(self, title, author, year):\n",
        "        self.title = title\n",
        "        self.author = author\n",
        "        self.year_published = year\n",
        "    def get_book_info(self):\n",
        "        return f\"Title: {self.title}\\nAuthor: {self.author}\\nYear Published: {self.year_published}\"\n",
        "\n",
        "book1 = Book(\"The Great Gatsby\", \"F. Scott Fitzgerald\", 1925)\n",
        "print(book1.get_book_info())\n"
      ],
      "metadata": {
        "colab": {
          "base_uri": "https://localhost:8080/"
        },
        "id": "Zob_sAQ8YFJ3",
        "outputId": "6c14cc75-8411-48cb-d8a8-2a81f770ad63"
      },
      "execution_count": 34,
      "outputs": [
        {
          "output_type": "stream",
          "name": "stdout",
          "text": [
            "Title: The Great Gatsby\n",
            "Author: F. Scott Fitzgerald\n",
            "Year Published: 1925\n"
          ]
        }
      ]
    },
    {
      "cell_type": "code",
      "source": [
        "# Create a class House with attributes address and price. Create a derived class Mansion that adds an attribute number_of_rooms.\n",
        "class House:\n",
        "    def __init__(self, address, price):\n",
        "        self.address = address\n",
        "        self.price = price\n",
        "class Mansion(House):\n",
        "    def __init__(self, address, price, number_of_rooms):\n",
        "        super().__init__(address, price)\n",
        "        self.number_of_rooms = number_of_rooms\n",
        "obj1 = Mansion(\"123 Main block\", 250000, 8)\n",
        "print(obj1.address, obj1.price, obj1.number_of_rooms)"
      ],
      "metadata": {
        "colab": {
          "base_uri": "https://localhost:8080/"
        },
        "id": "q6VTQQlwYRDO",
        "outputId": "e227b46e-8860-4d68-cf95-d72a45235498"
      },
      "execution_count": 36,
      "outputs": [
        {
          "output_type": "stream",
          "name": "stdout",
          "text": [
            "123 Main block 250000 8\n"
          ]
        }
      ]
    }
  ]
}